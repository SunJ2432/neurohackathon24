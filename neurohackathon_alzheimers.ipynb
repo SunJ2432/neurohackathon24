{
  "metadata": {
    "kernelspec": {
      "language": "python",
      "display_name": "Python 3",
      "name": "python3"
    },
    "language_info": {
      "name": "python",
      "version": "3.10.13",
      "mimetype": "text/x-python",
      "codemirror_mode": {
        "name": "ipython",
        "version": 3
      },
      "pygments_lexer": "ipython3",
      "nbconvert_exporter": "python",
      "file_extension": ".py"
    },
    "kaggle": {
      "accelerator": "none",
      "dataSources": [
        {
          "sourceId": 3398,
          "sourceType": "datasetVersion",
          "datasetId": 1980
        }
      ],
      "dockerImageVersionId": 30664,
      "isInternetEnabled": true,
      "language": "python",
      "sourceType": "notebook",
      "isGpuEnabled": false
    },
    "colab": {
      "name": "neurohackathon alzheimers",
      "provenance": [],
      "include_colab_link": true
    }
  },
  "nbformat_minor": 0,
  "nbformat": 4,
  "cells": [
    {
      "cell_type": "markdown",
      "metadata": {
        "id": "view-in-github",
        "colab_type": "text"
      },
      "source": [
        "<a href=\"https://colab.research.google.com/github/SunJ2432/neurohackathon24/blob/main/neurohackathon_alzheimers.ipynb\" target=\"_parent\"><img src=\"https://colab.research.google.com/assets/colab-badge.svg\" alt=\"Open In Colab\"/></a>"
      ]
    },
    {
      "source": [
        "\n",
        "# IMPORTANT: RUN THIS CELL IN ORDER TO IMPORT YOUR KAGGLE DATA SOURCES\n",
        "# TO THE CORRECT LOCATION (/kaggle/input) IN YOUR NOTEBOOK,\n",
        "# THEN FEEL FREE TO DELETE THIS CELL.\n",
        "# NOTE: THIS NOTEBOOK ENVIRONMENT DIFFERS FROM KAGGLE'S PYTHON\n",
        "# ENVIRONMENT SO THERE MAY BE MISSING LIBRARIES USED BY YOUR\n",
        "# NOTEBOOK.\n",
        "\n",
        "import os\n",
        "import sys\n",
        "from tempfile import NamedTemporaryFile\n",
        "from urllib.request import urlopen\n",
        "from urllib.parse import unquote, urlparse\n",
        "from urllib.error import HTTPError\n",
        "from zipfile import ZipFile\n",
        "import tarfile\n",
        "import shutil\n",
        "\n",
        "CHUNK_SIZE = 40960\n",
        "DATA_SOURCE_MAPPING = 'mri-and-alzheimers:https%3A%2F%2Fstorage.googleapis.com%2Fkaggle-data-sets%2F1980%2F3398%2Fbundle%2Farchive.zip%3FX-Goog-Algorithm%3DGOOG4-RSA-SHA256%26X-Goog-Credential%3Dgcp-kaggle-com%2540kaggle-161607.iam.gserviceaccount.com%252F20241001%252Fauto%252Fstorage%252Fgoog4_request%26X-Goog-Date%3D20241001T025941Z%26X-Goog-Expires%3D259200%26X-Goog-SignedHeaders%3Dhost%26X-Goog-Signature%3Da7cd3213cbd3f47ef930e1782a5c9ed19ff155ac6d72f1854860b4f48c06552771e05da3de3d66d6160730e9232583c69952a4a92d50aecf107dd22405c7453d3b70dbbe74de08561402b2c536d8db1eff66641b73658bc9b2ff1fb6bbab981900556b659899906353eee2a7de620067e7b1e3d3921d142bb95c4733879ea172c64c586d0888fa376571c015c3e3becd0c001ea801a69ebd7cf45adbf93febea7ecc36e33e799d5e6c2607ea80969ed51e4de88f6f042afbf756682d3c82919e4a801f636c3340212d579ec1a6f5cbd284ddfee370e28ee918445b58480b9749cfc9faa75a16c15ce35a094d4abefa06f6b43ac72a548bc53f0058f955109b3a'\n",
        "\n",
        "KAGGLE_INPUT_PATH='/kaggle/input'\n",
        "KAGGLE_WORKING_PATH='/kaggle/working'\n",
        "KAGGLE_SYMLINK='kaggle'\n",
        "\n",
        "!umount /kaggle/input/ 2> /dev/null\n",
        "shutil.rmtree('/kaggle/input', ignore_errors=True)\n",
        "os.makedirs(KAGGLE_INPUT_PATH, 0o777, exist_ok=True)\n",
        "os.makedirs(KAGGLE_WORKING_PATH, 0o777, exist_ok=True)\n",
        "\n",
        "try:\n",
        "  os.symlink(KAGGLE_INPUT_PATH, os.path.join(\"..\", 'input'), target_is_directory=True)\n",
        "except FileExistsError:\n",
        "  pass\n",
        "try:\n",
        "  os.symlink(KAGGLE_WORKING_PATH, os.path.join(\"..\", 'working'), target_is_directory=True)\n",
        "except FileExistsError:\n",
        "  pass\n",
        "\n",
        "for data_source_mapping in DATA_SOURCE_MAPPING.split(','):\n",
        "    directory, download_url_encoded = data_source_mapping.split(':')\n",
        "    download_url = unquote(download_url_encoded)\n",
        "    filename = urlparse(download_url).path\n",
        "    destination_path = os.path.join(KAGGLE_INPUT_PATH, directory)\n",
        "    try:\n",
        "        with urlopen(download_url) as fileres, NamedTemporaryFile() as tfile:\n",
        "            total_length = fileres.headers['content-length']\n",
        "            print(f'Downloading {directory}, {total_length} bytes compressed')\n",
        "            dl = 0\n",
        "            data = fileres.read(CHUNK_SIZE)\n",
        "            while len(data) > 0:\n",
        "                dl += len(data)\n",
        "                tfile.write(data)\n",
        "                done = int(50 * dl / int(total_length))\n",
        "                sys.stdout.write(f\"\\r[{'=' * done}{' ' * (50-done)}] {dl} bytes downloaded\")\n",
        "                sys.stdout.flush()\n",
        "                data = fileres.read(CHUNK_SIZE)\n",
        "            if filename.endswith('.zip'):\n",
        "              with ZipFile(tfile) as zfile:\n",
        "                zfile.extractall(destination_path)\n",
        "            else:\n",
        "              with tarfile.open(tfile.name) as tarfile:\n",
        "                tarfile.extractall(destination_path)\n",
        "            print(f'\\nDownloaded and uncompressed: {directory}')\n",
        "    except HTTPError as e:\n",
        "        print(f'Failed to load (likely expired) {download_url} to path {destination_path}')\n",
        "        continue\n",
        "    except OSError as e:\n",
        "        print(f'Failed to load {download_url} to path {destination_path}')\n",
        "        continue\n",
        "\n",
        "print('Data source import complete.')\n"
      ],
      "metadata": {
        "id": "k4fPPSr3Bbyi"
      },
      "cell_type": "code",
      "outputs": [],
      "execution_count": null
    },
    {
      "cell_type": "code",
      "source": [
        "# This Python 3 environment comes with many helpful analytics libraries installed\n",
        "# It is defined by the kaggle/python Docker image: https://github.com/kaggle/docker-python\n",
        "# For example, here's several helpful packages to load\n",
        "\n",
        "import numpy as np # linear algebra\n",
        "import pandas as pd # data processing, CSV file I/O (e.g. pd.read_csv)\n",
        "import matplotlib.pylab as plt\n",
        "import seaborn as sns\n",
        "plt.style.use('ggplot')\n",
        "pd.set_option('display.max_columns', 200)\n",
        "from sklearn.linear_model import LinearRegression\n",
        "from sklearn.linear_model import Lasso\n",
        "from sklearn.model_selection import train_test_split\n",
        "from sklearn.metrics import r2_score\n",
        "from sklearn.metrics import mean_squared_error\n",
        "\n",
        "# Input data files are available in the read-only \"../input/\" directory\n",
        "# For example, running this (by clicking run or pressing Shift+Enter) will list all files under the input directory\n",
        "\n",
        "import os\n",
        "for dirname, _, filenames in os.walk('/kaggle/input'):\n",
        "    for filename in filenames:\n",
        "        print(os.path.join(dirname, filename))\n",
        "\n",
        "# You can write up to 20GB to the current directory (/kaggle/working/) that gets preserved as output when you create a version using \"Save & Run All\"\n",
        "# You can also write temporary files to /kaggle/temp/, but they won't be saved outside of the current session"
      ],
      "metadata": {
        "_uuid": "8f2839f25d086af736a60e9eeb907d3b93b6e0e5",
        "_cell_guid": "b1076dfc-b9ad-4769-8c92-a6c4dae69d19",
        "execution": {
          "iopub.status.busy": "2024-03-03T17:53:45.235853Z",
          "iopub.execute_input": "2024-03-03T17:53:45.236357Z",
          "iopub.status.idle": "2024-03-03T17:53:45.256288Z",
          "shell.execute_reply.started": "2024-03-03T17:53:45.236324Z",
          "shell.execute_reply": "2024-03-03T17:53:45.25502Z"
        },
        "trusted": true,
        "id": "_3EftniUBbyj"
      },
      "execution_count": null,
      "outputs": []
    },
    {
      "cell_type": "markdown",
      "source": [
        "# Data Cleanup"
      ],
      "metadata": {
        "id": "ohsXkTRXBbyj"
      }
    },
    {
      "cell_type": "code",
      "source": [
        "cross_sectional = pd.read_csv('/kaggle/input/mri-and-alzheimers/oasis_cross-sectional.csv')\n",
        "cross_sectional.head()\n"
      ],
      "metadata": {
        "execution": {
          "iopub.status.busy": "2024-03-03T17:53:45.258639Z",
          "iopub.execute_input": "2024-03-03T17:53:45.25911Z",
          "iopub.status.idle": "2024-03-03T17:53:45.284545Z",
          "shell.execute_reply.started": "2024-03-03T17:53:45.259078Z",
          "shell.execute_reply": "2024-03-03T17:53:45.283704Z"
        },
        "trusted": true,
        "id": "rsEmGLW0Bbyk"
      },
      "execution_count": null,
      "outputs": []
    },
    {
      "cell_type": "code",
      "source": [
        "cross_sectional = cross_sectional.drop(columns = ['ID', 'Delay','Hand'])\n",
        "cross_sectional = cross_sectional.dropna(subset = ['CDR'])\n",
        "cross_sectional.head()"
      ],
      "metadata": {
        "execution": {
          "iopub.status.busy": "2024-03-03T17:53:45.286049Z",
          "iopub.execute_input": "2024-03-03T17:53:45.286371Z"
        },
        "trusted": true,
        "id": "Fgk21lebBbyk"
      },
      "execution_count": null,
      "outputs": []
    },
    {
      "cell_type": "code",
      "source": [
        "# convert gender to binary (0 = f, 1 = m)\n",
        "dummies = pd.get_dummies(cross_sectional['M/F']).astype(int)\n",
        "dummies = dummies.drop('F', axis='columns')\n",
        "dummies.head()\n",
        "cross_sectional = pd.concat([cross_sectional, dummies], axis='columns')\n",
        "cross_sectional = cross_sectional.drop('M/F', axis='columns')\n",
        "cross_sectional = cross_sectional.rename(columns = {\"M\":\"isMale\"})\n",
        "cross_sectional.head()"
      ],
      "metadata": {
        "trusted": true,
        "id": "6XH0S9U9Bbyk"
      },
      "execution_count": null,
      "outputs": []
    },
    {
      "cell_type": "code",
      "source": [
        "# fill nulls in SES\n",
        "ses_mean = cross_sectional.loc[:, 'SES'].mean()\n",
        "cross_sectional['SES'] = cross_sectional['SES'].fillna(value=ses_mean)"
      ],
      "metadata": {
        "trusted": true,
        "id": "93-4b0N_Bbyk"
      },
      "execution_count": null,
      "outputs": []
    },
    {
      "cell_type": "markdown",
      "source": [
        "# Linear Regression"
      ],
      "metadata": {
        "id": "yLst6pqbBbyk"
      }
    },
    {
      "cell_type": "code",
      "source": [
        "column=[]\n",
        "for i in cross_sectional.columns.array:\n",
        "  if i!='CDR':\n",
        "    column.append(i)\n",
        "\n",
        "col = pd.Series(column).to_numpy()\n",
        "x = [[] for _ in range(len(cross_sectional[col[0]]))]\n",
        "for i in range(len(cross_sectional[col[0]])):\n",
        "  for j in range(len(col)):\n",
        "    x[i].append(cross_sectional[col[j]].to_numpy()[i])"
      ],
      "metadata": {
        "trusted": true,
        "id": "QTEc4taaBbyk"
      },
      "execution_count": null,
      "outputs": []
    },
    {
      "cell_type": "code",
      "source": [
        "def simpleLR(X, Y, X2, Y2):\n",
        "  model = LinearRegression().fit(X, Y, sample_weight=None)\n",
        "  b1 = model.coef_\n",
        "  b0 = model.intercept_\n",
        "  yhat = model.predict(X2)\n",
        "  score = r2_score(Y2, yhat)\n",
        "  return b0, b1, yhat, score"
      ],
      "metadata": {
        "trusted": true,
        "id": "M9PkLnqmBbyk"
      },
      "execution_count": null,
      "outputs": []
    },
    {
      "cell_type": "code",
      "source": [
        "import matplotlib.pyplot as plt\n",
        "\n",
        "results = {'Independent Variable': [], 'b0': [], 'b1': [], 'R2 Score': []}\n",
        "train = cross_sectional.sample(frac = 0.8, random_state = 31)\n",
        "test = cross_sectional.drop(train.index)\n",
        "\n",
        "for i in col:\n",
        "  plt.subplots()\n",
        "  b0, b1, yhat, score = simpleLR(train[[i]], train[['CDR']],test[[i]], test[['CDR']])\n",
        "  results['Independent Variable'].append(i)\n",
        "  results['b0'].append(b0[0])\n",
        "  results['b1'].append(b1[0][0])\n",
        "  results['R2 Score'].append(score)\n",
        "  plt.scatter(test[i], test['CDR'])\n",
        "  plt.plot(test[i], yhat, 'b')\n",
        "  plt.xlabel(i)\n",
        "  plt.ylabel(\"CDR\")\n",
        "  plt.title(i + \" VS CDR\")\n",
        "  plt.grid()\n",
        "print(results['R2 Score'])"
      ],
      "metadata": {
        "trusted": true,
        "id": "OIg_2Kn6Bbyk"
      },
      "execution_count": null,
      "outputs": []
    },
    {
      "cell_type": "code",
      "source": [
        "def MLR(X,Y,X2, Y2):\n",
        "  regr = LinearRegression()\n",
        "  regr.fit(X,Y)\n",
        "  b0 = regr.intercept_\n",
        "  b1 = regr.coef_\n",
        "  yhat = regr.predict(X2)\n",
        "  score = r2_score(Y2, yhat)\n",
        "  return b0, b1, score\n",
        "\n"
      ],
      "metadata": {
        "trusted": true,
        "id": "imF307K6Bbyl"
      },
      "execution_count": null,
      "outputs": []
    },
    {
      "cell_type": "code",
      "source": [
        "key = ['Number of Independent Variables', 'Best R2 Score']\n",
        "key.extend(col)\n",
        "zeros = [0 for i in range(7)]\n",
        "value = [zeros.copy() for i in range(len(key))]\n",
        "results = {k:v for (k, v) in zip(key, value)}\n",
        "def gen_subset(indep, n):\n",
        "  if n == 0:\n",
        "      return [[]]\n",
        "  subsets =[]\n",
        "  for i in range(0, len(indep)):\n",
        "      m = indep[i] #first heading\n",
        "      remLst = indep[i + 1:] #the rest of indep\n",
        "      remainlst_combo = gen_subset(remLst, n-1)\n",
        "      for p in remainlst_combo:\n",
        "        subsets.append([m, *p])\n",
        "  return subsets\n",
        "\n",
        "train = cross_sectional.sample(frac = 0.8, random_state = 31)\n",
        "test = cross_sectional.drop(train.index)\n",
        "\n",
        "for i in range(2, 9):\n",
        "  best_b0, best_b1, best_score, best_indep = 0, 0, 0, []\n",
        "  for j in gen_subset(col, i):\n",
        "    x = np.asanyarray(train[j])\n",
        "    y = np.asanyarray(train['CDR'])\n",
        "    x2 = np.asanyarray(test[j])\n",
        "    y2 = np.asanyarray(test['CDR'])\n",
        "    b0, b1, score = MLR(x,y,x2,y2)\n",
        "    if score > best_score:\n",
        "      best_score, best_b0, best_b1, best_indep = score, b0, b1, j\n",
        "  for name in best_indep:\n",
        "    results[name][i-2] = 1\n",
        "  results['Number of Independent Variables'][i-2] = i\n",
        "  results['Best R2 Score'][i-2] = best_score\n",
        "\n",
        "results = pd.DataFrame(results)\n",
        "display(results)"
      ],
      "metadata": {
        "trusted": true,
        "id": "_JOfvhu7Bbyl"
      },
      "execution_count": null,
      "outputs": []
    },
    {
      "cell_type": "markdown",
      "source": [
        "# Random Forest Model"
      ],
      "metadata": {
        "id": "O77XCgF9Bbyl"
      }
    },
    {
      "cell_type": "code",
      "source": [
        "from sklearn.model_selection import train_test_split\n",
        "from sklearn.ensemble import RandomForestRegressor\n",
        "from sklearn.ensemble import RandomForestClassifier\n",
        "from sklearn.model_selection import cross_val_score\n",
        "from sklearn.metrics import classification_report, confusion_matrix\n",
        "X = cross_sectional.drop(['CDR'], axis=1)\n",
        "y = cross_sectional['CDR']"
      ],
      "metadata": {
        "trusted": true,
        "id": "1lV7VcTFBbyl"
      },
      "execution_count": null,
      "outputs": []
    },
    {
      "cell_type": "code",
      "source": [
        "x_train, x_test, y_train, y_test = train_test_split(X, y, test_size = 0.2, random_state = 28)"
      ],
      "metadata": {
        "trusted": true,
        "id": "lWsueZqfBbyl"
      },
      "execution_count": null,
      "outputs": []
    },
    {
      "cell_type": "code",
      "source": [
        "fc = RandomForestClassifier()\n",
        "fc.fit(x_train, y_train.astype(\"string\"))"
      ],
      "metadata": {
        "trusted": true,
        "id": "jpVoie_9Bbyl"
      },
      "execution_count": null,
      "outputs": []
    },
    {
      "cell_type": "code",
      "source": [
        "yfc_pred = fc.predict(x_test)\n",
        "dfc = pd.DataFrame({\"prediction\" : yfc_pred, \"actual\" : y_test.astype(\"string\").tolist()})\n",
        "print(classification_report(y_test.astype(\"string\"), yfc_pred))"
      ],
      "metadata": {
        "trusted": true,
        "id": "KfjRkn8yBbyl"
      },
      "execution_count": null,
      "outputs": []
    },
    {
      "cell_type": "code",
      "source": [
        "# Initializing the Random Forest Regression model with 10 decision trees\n",
        "forest = RandomForestRegressor(n_estimators = 10, random_state = 0)\n",
        "\n",
        "# Fitting the Random Forest Regression model to the data\n",
        "forest.fit(x_train, y_train)"
      ],
      "metadata": {
        "trusted": true,
        "id": "iyfpBuD4Bbyl"
      },
      "execution_count": null,
      "outputs": []
    },
    {
      "cell_type": "code",
      "source": [
        "# Predicting the target values of the test set\n",
        "y_pred = forest.predict(x_test)\n",
        "df = pd.DataFrame({\"prediction\" : y_pred, \"actual\" : y_test.tolist()})\n",
        "df"
      ],
      "metadata": {
        "trusted": true,
        "id": "H7qB7SKCBbyl"
      },
      "execution_count": null,
      "outputs": []
    },
    {
      "cell_type": "code",
      "source": [
        "# RMSE (Root Mean Square Error)\n",
        "rmse = float(format(np.sqrt(mean_squared_error(y_test, y_pred)), '.4f'))\n",
        "print(\"\\nRMSE: \", rmse)"
      ],
      "metadata": {
        "trusted": true,
        "id": "mwaL1VQ3Bbyl"
      },
      "execution_count": null,
      "outputs": []
    },
    {
      "cell_type": "code",
      "source": [
        "# Normalized RMSE\n",
        "max_val = cross_sectional['CDR'].max()\n",
        "min_val = cross_sectional['CDR'].min()\n",
        "n_rmse = rmse / (max_val - min_val)\n",
        "print(\"Normalized RMSE: \", n_rmse)"
      ],
      "metadata": {
        "trusted": true,
        "id": "wYetVqTrBbyl"
      },
      "execution_count": null,
      "outputs": []
    },
    {
      "cell_type": "markdown",
      "source": [
        "# Data Visualization"
      ],
      "metadata": {
        "id": "fTqqP1PIBbyl"
      }
    },
    {
      "cell_type": "code",
      "source": [
        "# heatmap showing correlations\n",
        "cross_sectional_corr = cross_sectional[cross_sectional.columns.values.tolist()].dropna().corr()\n",
        "\n",
        "sns.heatmap(data=cross_sectional_corr, annot=True, fmt=\".1f\")"
      ],
      "metadata": {
        "trusted": true,
        "id": "6p3rglS4Bbyl"
      },
      "execution_count": null,
      "outputs": []
    },
    {
      "cell_type": "code",
      "source": [
        "# General distributions of numerical data. Note that the vast majority of passengers spend very little money.\n",
        "fig, ax = plt.subplots(7,1, figsize=(10, 10))\n",
        "plt.subplots_adjust(top = 2)\n",
        "\n",
        "sns.histplot(cross_sectional['Age'], palette=sns.color_palette('pastel')[1:3], bins=50, ax=ax[0]);\n",
        "sns.countplot(cross_sectional, x='Educ', hue='isMale', palette=sns.color_palette('pastel')[1:3],ax=ax[1]);\n",
        "sns.countplot(cross_sectional, x='SES', hue='isMale', palette=sns.color_palette('pastel')[1:3],ax=ax[2]);\n",
        "sns.histplot(cross_sectional['MMSE'], palette=sns.color_palette('pastel')[1:3], bins=50, ax=ax[3]);\n",
        "sns.histplot(cross_sectional['eTIV'], palette=sns.color_palette('pastel')[1:3], bins=50, ax=ax[4]);\n",
        "sns.histplot(cross_sectional['nWBV'], palette=sns.color_palette('pastel')[1:3], bins=50, ax=ax[5]);\n",
        "sns.histplot(cross_sectional['ASF'], palette=sns.color_palette('pastel')[1:3], bins=50, ax=ax[6]);"
      ],
      "metadata": {
        "trusted": true,
        "id": "EwGK0F0ZBbym"
      },
      "execution_count": null,
      "outputs": []
    },
    {
      "cell_type": "code",
      "source": [
        "sns.pairplot(cross_sectional,\n",
        "             vars=['Age', 'Educ', 'SES', 'MMSE', 'CDR', 'eTIV', 'nWBV', 'ASF'],\n",
        "            hue='isMale', palette=sns.color_palette('pastel')[1:3])\n",
        "plt.show()"
      ],
      "metadata": {
        "trusted": true,
        "id": "aJhkN86KBbym"
      },
      "execution_count": null,
      "outputs": []
    },
    {
      "cell_type": "code",
      "source": [
        "# Gender data in a pie\n",
        "plt.pie(cross_sectional[\"isMale\"].value_counts(),\n",
        "        labels=['Male', 'Female'],\n",
        "        autopct=\"%1.1f%%\",\n",
        "        colors=sns.color_palette('pastel')[0:2])\n",
        "plt.title(\"Gender Distribution\")"
      ],
      "metadata": {
        "trusted": true,
        "id": "2Eo_H1ObBbym"
      },
      "execution_count": null,
      "outputs": []
    },
    {
      "cell_type": "code",
      "source": [
        "# Education data in a pie\n",
        "plt.pie(cross_sectional[\"Educ\"].value_counts(),\n",
        "        labels=['High School Grad', 'Beyond College', 'College Grad', 'Some College', 'Less than High School Grad'],\n",
        "        autopct=\"%1.1f%%\",\n",
        "        colors=sns.color_palette('pastel')[0:5])\n",
        "plt.title(\"Education Distribution\")"
      ],
      "metadata": {
        "trusted": true,
        "id": "odFj0NwBBbym"
      },
      "execution_count": null,
      "outputs": []
    },
    {
      "cell_type": "code",
      "source": [
        "# SES data in a pie\n",
        "mask = cross_sectional[\"SES\"] == ses_mean\n",
        "plt.pie(cross_sectional[\"SES\"][~mask].value_counts(),\n",
        "        labels=cross_sectional[\"SES\"][~mask].value_counts().keys(),\n",
        "        autopct=\"%1.1f%%\",\n",
        "        colors=sns.color_palette('pastel')[0:6])\n",
        "plt.title(\"Socioeconomic Status Distribution\")"
      ],
      "metadata": {
        "trusted": true,
        "id": "v39g51BDBbym"
      },
      "execution_count": null,
      "outputs": []
    },
    {
      "cell_type": "code",
      "source": [
        "#Age bar graph\n",
        "sns.histplot(x=cross_sectional[\"Age\"],\n",
        "             #hue=\"Transported\",\n",
        "             #data=cross_sectional,\n",
        "             #palette=sns.color_palette('pastel')[1:3])\n",
        "            )\n",
        "plt.title(\"Age Distribution\");"
      ],
      "metadata": {
        "trusted": true,
        "id": "e9vDXtvPBbym"
      },
      "execution_count": null,
      "outputs": []
    },
    {
      "cell_type": "code",
      "source": [
        "#MMSE bar graph\n",
        "sns.histplot(x=cross_sectional[\"MMSE\"],\n",
        "             #hue=\"Transported\",\n",
        "             #data=cross_sectional,\n",
        "             #palette=sns.color_palette('pastel')[1:3])\n",
        "            )\n",
        "plt.title(\"Mini Mental State Examination Distribution\");"
      ],
      "metadata": {
        "trusted": true,
        "id": "yfLFv0BgBbym"
      },
      "execution_count": null,
      "outputs": []
    },
    {
      "cell_type": "code",
      "source": [
        "#eTIV\n",
        "sns.histplot(x=cross_sectional[\"eTIV\"],\n",
        "             #hue=\"Transported\",\n",
        "             #data=cross_sectional,\n",
        "             #palette=sns.color_palette('pastel')[1:3])\n",
        "            )\n",
        "plt.title(\"Estimated Total Intracranial Volume Distribution\");"
      ],
      "metadata": {
        "trusted": true,
        "id": "LGFWxH8pBbym"
      },
      "execution_count": null,
      "outputs": []
    },
    {
      "cell_type": "code",
      "source": [
        "#nWBV\n",
        "sns.histplot(x=cross_sectional[\"nWBV\"],\n",
        "             #hue=\"Transported\",\n",
        "             #data=cross_sectional,\n",
        "             #palette=sns.color_palette('pastel')[1:3])\n",
        "            )\n",
        "plt.title(\"Normalize Whole Brain Volume Distribution\");"
      ],
      "metadata": {
        "trusted": true,
        "id": "0tb6S6m3Bbym"
      },
      "execution_count": null,
      "outputs": []
    },
    {
      "cell_type": "code",
      "source": [
        "#ASF\n",
        "sns.histplot(x=cross_sectional[\"ASF\"],\n",
        "             #hue=\"Transported\",\n",
        "             #data=cross_sectional,\n",
        "             #palette=sns.color_palette('pastel')[1:3])\n",
        "            )\n",
        "plt.title(\"ASF Distribution\");"
      ],
      "metadata": {
        "trusted": true,
        "id": "KpObX-q6Bbym"
      },
      "execution_count": null,
      "outputs": []
    }
  ]
}